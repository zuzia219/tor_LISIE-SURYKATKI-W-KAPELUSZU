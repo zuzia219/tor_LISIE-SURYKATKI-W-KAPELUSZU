{
 "cells": [
  {
   "cell_type": "code",
   "execution_count": 3,
   "metadata": {},
   "outputs": [],
   "source": [
    "# set up autocomplete\n",
    "%config IPCompleter.greedy=True"
   ]
  },
  {
   "cell_type": "code",
   "execution_count": 4,
   "metadata": {},
   "outputs": [],
   "source": [
    "import pandas as pd\n",
    "import json"
   ]
  },
  {
   "cell_type": "code",
   "execution_count": 42,
   "metadata": {},
   "outputs": [
    {
     "data": {
      "text/plain": [
       "{'id': '4917959693', 'category_id': '82258'}"
      ]
     },
     "execution_count": 42,
     "metadata": {},
     "output_type": "execute_result"
    }
   ],
   "source": [
    "transactions = '../DATA/braincode-dataset-tx.json'\n",
    "views = '../DATA/braincode-dataset-items.json'\n",
    "dd = {\"ttimestamp\":1523513211322,\"offer\":{\"id\":\"4917959693\",\"category_id\":\"82258\"},\"location\":{\"latitude\":54.51889,\"longitude\":18.53188},\"item_quantity\":\"7\"}\n",
    "\n",
    "dd['offer']"
   ]
  },
  {
   "cell_type": "code",
   "execution_count": 41,
   "metadata": {},
   "outputs": [
    {
     "data": {
      "text/plain": [
       "dict"
      ]
     },
     "execution_count": 41,
     "metadata": {},
     "output_type": "execute_result"
    }
   ],
   "source": [
    "type(dd)"
   ]
  },
  {
   "cell_type": "code",
   "execution_count": 65,
   "metadata": {},
   "outputs": [],
   "source": [
    "import json\n",
    "import numpy as np\n",
    "from pandas.io.json import json_normalize    \n",
    "\n",
    "data = []\n",
    "json_to_dict = {'ttimestamp':[], \n",
    "               'offer_id':[],\n",
    "               'category_id':[],\n",
    "               'latitude':[],\n",
    "               'longitude':[],\n",
    "               'item_quantity':[]}\n",
    "with open (transactions) as f:    \n",
    "    for line in f:\n",
    "        json_line = json.loads(line)\n",
    "        json_offer = json_line['offer']\n",
    "        json_location = json_line['location']\n",
    "        json_to_dict['ttimestamp'].append(json_line['ttimestamp'])\n",
    "        \n",
    "        json_to_dict['offer_id'].append(json_offer['id'])\n",
    "        if 'category_id' in json_offer.keys():\n",
    "            json_to_dict['category_id'].append(json_offer['category_id'])\n",
    "        else:\n",
    "            json_to_dict['category_id'].append([np.nan])\n",
    "\n",
    "        json_to_dict['latitude'].append(json_location['latitude'])\n",
    "        json_to_dict['longitude'].append(json_location['longitude'])\n",
    "        \n",
    "        json_to_dict['item_quantity'].append(json_line['item_quantity'])"
   ]
  },
  {
   "cell_type": "code",
   "execution_count": 66,
   "metadata": {},
   "outputs": [
    {
     "name": "stdout",
     "output_type": "stream",
     "text": [
      "ttimestamp 25772\n",
      "offer_id 25772\n",
      "category_id 25772\n",
      "latitude 25772\n",
      "longitude 25772\n",
      "item_quantity 25772\n"
     ]
    }
   ],
   "source": [
    "for k,v in json_to_dict.items():\n",
    "    print(k, len(v))"
   ]
  },
  {
   "cell_type": "code",
   "execution_count": 67,
   "metadata": {},
   "outputs": [],
   "source": [
    "df = pd.DataFrame(json_to_dict)"
   ]
  },
  {
   "cell_type": "code",
   "execution_count": 68,
   "metadata": {},
   "outputs": [
    {
     "ename": "SyntaxError",
     "evalue": "invalid syntax (<ipython-input-68-7bf7cfd89acd>, line 4)",
     "output_type": "error",
     "traceback": [
      "\u001b[0;36m  File \u001b[0;32m\"<ipython-input-68-7bf7cfd89acd>\"\u001b[0;36m, line \u001b[0;32m4\u001b[0m\n\u001b[0;31m    df['category_id'].\u001b[0m\n\u001b[0m                      ^\u001b[0m\n\u001b[0;31mSyntaxError\u001b[0m\u001b[0;31m:\u001b[0m invalid syntax\n"
     ]
    }
   ],
   "source": [
    "\n",
    "\n"
   ]
  },
  {
   "cell_type": "code",
   "execution_count": null,
   "metadata": {},
   "outputs": [],
   "source": []
  }
 ],
 "metadata": {
  "kernelspec": {
   "display_name": "Python 3",
   "language": "python",
   "name": "python3"
  },
  "language_info": {
   "codemirror_mode": {
    "name": "ipython",
    "version": 3
   },
   "file_extension": ".py",
   "mimetype": "text/x-python",
   "name": "python",
   "nbconvert_exporter": "python",
   "pygments_lexer": "ipython3",
   "version": "3.6.4"
  }
 },
 "nbformat": 4,
 "nbformat_minor": 2
}
