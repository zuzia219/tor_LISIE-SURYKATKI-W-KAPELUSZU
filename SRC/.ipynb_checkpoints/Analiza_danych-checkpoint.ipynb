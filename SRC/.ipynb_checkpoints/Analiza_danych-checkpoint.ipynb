{
 "cells": [
  {
   "cell_type": "code",
   "execution_count": 3,
   "metadata": {},
   "outputs": [],
   "source": [
    "# set up autocomplete\n",
    "%config IPCompleter.greedy=True"
   ]
  },
  {
   "cell_type": "code",
   "execution_count": 4,
   "metadata": {},
   "outputs": [],
   "source": [
    "import pandas as pd\n",
    "import json"
   ]
  },
  {
   "cell_type": "code",
   "execution_count": 42,
   "metadata": {},
   "outputs": [
    {
     "data": {
      "text/plain": [
       "{'id': '4917959693', 'category_id': '82258'}"
      ]
     },
     "execution_count": 42,
     "metadata": {},
     "output_type": "execute_result"
    }
   ],
   "source": [
    "transactions = '../DATA/braincode-dataset-tx.json'\n",
    "views = '../DATA/braincode-dataset-items.json'\n",
    "dd = {\"ttimestamp\":1523513211322,\"offer\":{\"id\":\"4917959693\",\"category_id\":\"82258\"},\"location\":{\"latitude\":54.51889,\"longitude\":18.53188},\"item_quantity\":\"7\"}\n",
    "\n",
    "dd['offer']"
   ]
  },
  {
   "cell_type": "code",
   "execution_count": 41,
   "metadata": {},
   "outputs": [
    {
     "data": {
      "text/plain": [
       "dict"
      ]
     },
     "execution_count": 41,
     "metadata": {},
     "output_type": "execute_result"
    }
   ],
   "source": [
    "type(dd)"
   ]
  },
  {
   "cell_type": "code",
   "execution_count": 51,
   "metadata": {},
   "outputs": [],
   "source": [
    "import json\n",
    "from pandas.io.json import json_normalize    \n",
    "\n",
    "data = []\n",
    "json_to_dict = {'ttimestamp':[], \n",
    "               'offer_id':[],\n",
    "               'category_id':[],\n",
    "               'latitude':[],\n",
    "               'longitude':[],\n",
    "               'item_quantity':[]}\n",
    "with open (transactions) as f:    \n",
    "    for line in f:\n",
    "        json_line = json.loads(line)\n",
    "        json_offer = json_line['offer']\n",
    "        json_location = json_line['location']\n",
    "        json_to_dict['ttimestamp'].append(json_line['ttimestamp'])\n",
    "        \n",
    "        json_to_dict['offer_id'].append(json_offer['id'])\n",
    "        if 'category_id' in json_offer.keys():\n",
    "            json_to_dict['category_id'].append(json_offer['category_id'])\n",
    "        else:\n",
    "            json_to_dict['category_id'].append(['NaN'])\n",
    "\n",
    "        json_to_dict['latitude'].append(json_location['latitude'])\n",
    "        json_to_dict['longitude'].append(json_location['longitude'])\n",
    "        \n",
    "        json_to_dict['item_quantity'].append(json_line['item_quantity'])"
   ]
  },
  {
   "cell_type": "code",
   "execution_count": 52,
   "metadata": {},
   "outputs": [
    {
     "name": "stdout",
     "output_type": "stream",
     "text": [
      "ttimestamp 25772\n",
      "offer_id 25772\n",
      "category_id 25772\n",
      "latitude 25772\n",
      "longitude 25772\n",
      "item_quantity 25772\n"
     ]
    }
   ],
   "source": [
    "for k,v in json_to_dict.items():\n",
    "    print(k, len(v))"
   ]
  },
  {
   "cell_type": "code",
   "execution_count": 54,
   "metadata": {},
   "outputs": [],
   "source": [
    "df = pd.DataFrame(json_to_dict)"
   ]
  },
  {
   "cell_type": "code",
   "execution_count": 55,
   "metadata": {},
   "outputs": [
    {
     "data": {
      "text/html": [
       "<div>\n",
       "<style scoped>\n",
       "    .dataframe tbody tr th:only-of-type {\n",
       "        vertical-align: middle;\n",
       "    }\n",
       "\n",
       "    .dataframe tbody tr th {\n",
       "        vertical-align: top;\n",
       "    }\n",
       "\n",
       "    .dataframe thead th {\n",
       "        text-align: right;\n",
       "    }\n",
       "</style>\n",
       "<table border=\"1\" class=\"dataframe\">\n",
       "  <thead>\n",
       "    <tr style=\"text-align: right;\">\n",
       "      <th></th>\n",
       "      <th>category_id</th>\n",
       "      <th>item_quantity</th>\n",
       "      <th>latitude</th>\n",
       "      <th>longitude</th>\n",
       "      <th>offer_id</th>\n",
       "      <th>ttimestamp</th>\n",
       "    </tr>\n",
       "  </thead>\n",
       "  <tbody>\n",
       "    <tr>\n",
       "      <th>0</th>\n",
       "      <td>82258</td>\n",
       "      <td>7</td>\n",
       "      <td>54.51889</td>\n",
       "      <td>18.53188</td>\n",
       "      <td>4917959693</td>\n",
       "      <td>1523513211322</td>\n",
       "    </tr>\n",
       "    <tr>\n",
       "      <th>1</th>\n",
       "      <td>82262</td>\n",
       "      <td>6</td>\n",
       "      <td>52.40692</td>\n",
       "      <td>16.92993</td>\n",
       "      <td>6053701041</td>\n",
       "      <td>1523452698215</td>\n",
       "    </tr>\n",
       "    <tr>\n",
       "      <th>2</th>\n",
       "      <td>82262</td>\n",
       "      <td>4</td>\n",
       "      <td>50.87033</td>\n",
       "      <td>20.62752</td>\n",
       "      <td>6053701041</td>\n",
       "      <td>1523419797371</td>\n",
       "    </tr>\n",
       "    <tr>\n",
       "      <th>3</th>\n",
       "      <td>82262</td>\n",
       "      <td>4</td>\n",
       "      <td>50.06143</td>\n",
       "      <td>19.93658</td>\n",
       "      <td>6729129823</td>\n",
       "      <td>1523546459565</td>\n",
       "    </tr>\n",
       "    <tr>\n",
       "      <th>4</th>\n",
       "      <td>82262</td>\n",
       "      <td>9</td>\n",
       "      <td>52.64817</td>\n",
       "      <td>19.06780</td>\n",
       "      <td>6729129823</td>\n",
       "      <td>1523374151281</td>\n",
       "    </tr>\n",
       "  </tbody>\n",
       "</table>\n",
       "</div>"
      ],
      "text/plain": [
       "  category_id item_quantity  latitude  longitude    offer_id     ttimestamp\n",
       "0       82258             7  54.51889   18.53188  4917959693  1523513211322\n",
       "1       82262             6  52.40692   16.92993  6053701041  1523452698215\n",
       "2       82262             4  50.87033   20.62752  6053701041  1523419797371\n",
       "3       82262             4  50.06143   19.93658  6729129823  1523546459565\n",
       "4       82262             9  52.64817   19.06780  6729129823  1523374151281"
      ]
     },
     "execution_count": 55,
     "metadata": {},
     "output_type": "execute_result"
    }
   ],
   "source": [
    "df.head()"
   ]
  },
  {
   "cell_type": "code",
   "execution_count": null,
   "metadata": {},
   "outputs": [],
   "source": []
  }
 ],
 "metadata": {
  "kernelspec": {
   "display_name": "Python 3",
   "language": "python",
   "name": "python3"
  },
  "language_info": {
   "codemirror_mode": {
    "name": "ipython",
    "version": 3
   },
   "file_extension": ".py",
   "mimetype": "text/x-python",
   "name": "python",
   "nbconvert_exporter": "python",
   "pygments_lexer": "ipython3",
   "version": "3.6.4"
  }
 },
 "nbformat": 4,
 "nbformat_minor": 2
}
